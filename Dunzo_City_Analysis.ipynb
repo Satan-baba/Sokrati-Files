{
 "cells": [
  {
   "cell_type": "code",
   "execution_count": 43,
   "metadata": {},
   "outputs": [
    {
     "name": "stderr",
     "output_type": "stream",
     "text": [
      "C:\\anaconda\\lib\\site-packages\\ipykernel_launcher.py:29: SettingWithCopyWarning: \n",
      "A value is trying to be set on a copy of a slice from a DataFrame.\n",
      "Try using .loc[row_indexer,col_indexer] = value instead\n",
      "\n",
      "See the caveats in the documentation: http://pandas.pydata.org/pandas-docs/stable/indexing.html#indexing-view-versus-copy\n",
      "C:\\anaconda\\lib\\site-packages\\ipykernel_launcher.py:30: SettingWithCopyWarning: \n",
      "A value is trying to be set on a copy of a slice from a DataFrame.\n",
      "Try using .loc[row_indexer,col_indexer] = value instead\n",
      "\n",
      "See the caveats in the documentation: http://pandas.pydata.org/pandas-docs/stable/indexing.html#indexing-view-versus-copy\n"
     ]
    }
   ],
   "source": [
    "import pandas as pd\n",
    "import os\n",
    "import numpy as np\n",
    "from datetime import datetime\n",
    "from stat import S_ISREG, ST_CTIME, ST_MODE\n",
    "import os, sys, time\n",
    "\n",
    "def read_last_file():\n",
    "    dir_path = sys.argv[1] if len(sys.argv) == 2 else r'.'\n",
    "    data = (os.path.join(dir_path, fn) for fn in os.listdir(dir_path))\n",
    "    data = ((os.stat(path), path) for path in data)\n",
    "\n",
    "    data = ((stat[ST_CTIME], path)\n",
    "           for stat, path in data if S_ISREG(stat[ST_MODE]))\n",
    "    name= []\n",
    "    for cdate, path in sorted(data):\n",
    "        name.append(os.path.basename(path))\n",
    "    return name\n",
    "\n",
    "def analyze():\n",
    "    Plac_csv_file_DBM = read_last_file()[-1]\n",
    "    Plac_csv_file_af = read_last_file()[-2]\n",
    "    df_DBM = pd.read_csv(Plac_csv_file_DBM)\n",
    "    df_af = pd.read_csv(Plac_csv_file_af)\n",
    "    del df_DBM['Advertiser Currency']\n",
    "    df_af_use = df_af[[\"Campaign (c)\",\"Installs\",\"new_user_registration (Unique users)\",\"appsflyer_new_order_created (Unique users)\"]]\n",
    "    df_af_use.columns = [\"CM Placement ID\", \"Installs\", \"Registrations\", \"Activations\" ] \n",
    "    df_DBM[\"CM Placement ID\"] = df_DBM[\"CM Placement ID\"].fillna(0).astype(int)\n",
    "    df_af_use[\"CM Placement ID\"] = df_af_use[\"CM Placement ID\"][df_af_use[\"CM Placement ID\"].apply(lambda x:x.isnumeric()) == True]\n",
    "    df_af_use[\"CM Placement ID\"] = df_af_use[\"CM Placement ID\"].fillna(0).astype(int)\n",
    "    pd.merge(df_DBM, df_af_use, on = \"CM Placement ID\")\n",
    "    df_af_use = df_af_use.groupby([\"CM Placement ID\"]).sum()\n",
    "    df_af_use = df_af_use.reset_index()\n",
    "    df_col = pd.merge(df_DBM, df_af_use, on = \"CM Placement ID\")\n",
    "    df_col.dropna(inplace = True)\n",
    "    df_col[\"Insertion Order\"] = df_col[\"Insertion Order\"].map({\"App Install_Bangalore_Android\":\"Bangalore\", \n",
    "                                                               \"App Install_Chennai_Android\":\"Chennai\",\n",
    "                                                               \"App Install_Delhi_Android\":\"Delhi\",\n",
    "                                                              \"App Install_Gurgaon_Android\": \"Gurgaon\",\n",
    "                                                              \"App Install_Hyderabad_Android\":\"Hyderabad\",\n",
    "                                                              \"App Install_Pune_Android\":\"Pune\",\n",
    "                                                              })\n",
    "    df_col = df_col.groupby([\"Insertion Order\"]).sum()\n",
    "    df_col[\"CTR\"] = df_col[\"Clicks\"]/df_col[\"Impressions\"]*100\n",
    "    df_col[\"CPI\"] = df_col[\"Revenue (Adv Currency)\"]/df_col[\"Installs\"]\n",
    "    df_col[\"CPR\"] = df_col[\"Revenue (Adv Currency)\"]/df_col[\"Registrations\"]\n",
    "    df_col[\"CPA\"] = df_col[\"Revenue (Adv Currency)\"]/df_col[\"Activations\"]\n",
    "    del df_col[\"CM Placement ID\"]\n",
    "    df_col[\"CPI\"] = df_col.CPI.astype(int)\n",
    "    df_col[\"CPR\"] = df_col.CPR.astype(int)\n",
    "    df_col[\"CPA\"] = df_col.CPA.astype(int)\n",
    "    df_col[\"CTR\"] = df_col.CTR.round(2)\n",
    "    return df_col\n",
    "download_name = read_last_file()[-1].split('_')[0]\n",
    "today = datetime.today()\n",
    "d3 = today.strftime(\"%m-%d-%y\")\n",
    "d3 = d3[:5]\n",
    "file = analyze()\n",
    "name = download_name + \"_\" + \"City_Analysis_\" + d3 + \".xlsx\"\n",
    "file.to_excel(name)"
   ]
  },
  {
   "cell_type": "code",
   "execution_count": null,
   "metadata": {},
   "outputs": [],
   "source": []
  }
 ],
 "metadata": {
  "kernelspec": {
   "display_name": "Python 3",
   "language": "python",
   "name": "python3"
  },
  "language_info": {
   "codemirror_mode": {
    "name": "ipython",
    "version": 3
   },
   "file_extension": ".py",
   "mimetype": "text/x-python",
   "name": "python",
   "nbconvert_exporter": "python",
   "pygments_lexer": "ipython3",
   "version": "3.7.1"
  }
 },
 "nbformat": 4,
 "nbformat_minor": 2
}
